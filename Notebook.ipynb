{
 "cells": [
  {
   "cell_type": "code",
   "execution_count": 2,
   "metadata": {},
   "outputs": [],
   "source": [
    "import sys\n",
    "import re\n",
    "import numpy as np\n",
    "import pandas as pd\n",
    "import matplotlib as plt\n",
    "from nltk.tokenize import RegexpTokenizer\n",
    "from nltk.tokenize import word_tokenize\n",
    "from tensorflow.keras.preprocessing.text import Tokenizer\n",
    "from tensorflow.keras.utils import to_categorical\n",
    "\n",
    "# np.set_printoptions(edgeitems=3)\n",
    "# np.core.arrayprint._line_width = 80"
   ]
  },
  {
   "cell_type": "code",
   "execution_count": 3,
   "metadata": {},
   "outputs": [
    {
     "name": "stdout",
     "output_type": "stream",
     "text": [
      "length of the corpus is:  581888\n"
     ]
    }
   ],
   "source": [
    "path = 'data.txt'\n",
    "data = open(path, 'r', encoding='utf-8').read().lower()\n",
    "print('length of the corpus is: ', len(data))"
   ]
  },
  {
   "cell_type": "code",
   "execution_count": 4,
   "metadata": {},
   "outputs": [
    {
     "name": "stdout",
     "output_type": "stream",
     "text": [
      "Length of tokens: 109281\n"
     ]
    }
   ],
   "source": [
    "# splitting the corpus into words\n",
    "\n",
    "cleaned = re.sub(r'\\W+', ' ', data).lower()\n",
    "tokens = word_tokenize(cleaned)\n",
    "print('Length of tokens: ' + str(len(tokens)))\n",
    "\n",
    "# This includes all full stops and all the punctuation. We only need the words...\n",
    "# tokenizer = RegexpTokenizer(r'\\w+|\\$[\\d\\.]+|\\S+')\n",
    "# words = tokenizer.tokenize(data)\n",
    "# len(words)"
   ]
  },
  {
   "cell_type": "code",
   "execution_count": 5,
   "metadata": {},
   "outputs": [
    {
     "data": {
      "text/plain": [
       "8200"
      ]
     },
     "execution_count": 5,
     "metadata": {},
     "output_type": "execute_result"
    }
   ],
   "source": [
    "# Finding all the unique words\n",
    "\n",
    "unique_words = np.unique(tokens)\n",
    "len(unique_words)"
   ]
  },
  {
   "cell_type": "code",
   "execution_count": null,
   "metadata": {},
   "outputs": [],
   "source": []
  },
  {
   "cell_type": "code",
   "execution_count": 6,
   "metadata": {},
   "outputs": [],
   "source": [
    "# Feature Engineering - converting the text into numerical values\n",
    "\n",
    "train_len = 5\n",
    "text_sequences = []\n",
    "for i in range(train_len,len(tokens)):\n",
    "    seq = tokens[i-train_len:i]\n",
    "    text_sequences.append(seq)\n"
   ]
  },
  {
   "cell_type": "code",
   "execution_count": 7,
   "metadata": {},
   "outputs": [
    {
     "data": {
      "text/plain": [
       "[['project', 'gutenberg', 's', 'the', 'adventures'],\n",
       " ['gutenberg', 's', 'the', 'adventures', 'of'],\n",
       " ['s', 'the', 'adventures', 'of', 'sherlock'],\n",
       " ['the', 'adventures', 'of', 'sherlock', 'holmes'],\n",
       " ['adventures', 'of', 'sherlock', 'holmes', 'by'],\n",
       " ['of', 'sherlock', 'holmes', 'by', 'arthur'],\n",
       " ['sherlock', 'holmes', 'by', 'arthur', 'conan'],\n",
       " ['holmes', 'by', 'arthur', 'conan', 'doyle'],\n",
       " ['by', 'arthur', 'conan', 'doyle', 'this'],\n",
       " ['arthur', 'conan', 'doyle', 'this', 'ebook']]"
      ]
     },
     "execution_count": 7,
     "metadata": {},
     "output_type": "execute_result"
    }
   ],
   "source": [
    "text_sequences[0:10]"
   ]
  },
  {
   "cell_type": "code",
   "execution_count": 8,
   "metadata": {},
   "outputs": [
    {
     "name": "stdout",
     "output_type": "stream",
     "text": [
      "Found 8200 unique tokens.\n"
     ]
    }
   ],
   "source": [
    "# Getting unique tokens\n",
    "\n",
    "tokenizer = Tokenizer()\n",
    "tokenizer.fit_on_texts(text_sequences)\n",
    "train_sequences = tokenizer.texts_to_sequences(text_sequences)\n",
    "print('Found %s unique tokens.' % len(tokenizer.word_counts))\n",
    "vocab =  len(tokenizer.word_counts)+1"
   ]
  },
  {
   "cell_type": "code",
   "execution_count": 9,
   "metadata": {},
   "outputs": [
    {
     "name": "stdout",
     "output_type": "stream",
     "text": [
      "109276\n"
     ]
    }
   ],
   "source": [
    "print(len(train_sequences))"
   ]
  },
  {
   "cell_type": "code",
   "execution_count": 10,
   "metadata": {},
   "outputs": [],
   "source": [
    "# creating an empty array\n",
    "\n",
    "n_sequences = np.empty([len(train_sequences),train_len], dtype='int32')\n",
    "for i in range(len(train_sequences)):\n",
    "    n_sequences[i] = train_sequences[i]\n",
    "\n",
    "x = n_sequences[:,:-1]\n",
    "y = n_sequences[:,-1]"
   ]
  },
  {
   "cell_type": "code",
   "execution_count": 11,
   "metadata": {},
   "outputs": [],
   "source": [
    "# Converting the input into binary\n",
    "\n",
    "y = to_categorical(y,num_classes=vocab)"
   ]
  },
  {
   "cell_type": "code",
   "execution_count": 20,
   "metadata": {},
   "outputs": [],
   "source": [
    "# Building the Model\n",
    "\n",
    "from tensorflow.keras.models import Sequential, load_model\n",
    "from tensorflow.keras.layers import LSTM, Dense, Embedding\n",
    "from tensorflow.keras.preprocessing.sequence import pad_sequences"
   ]
  },
  {
   "cell_type": "code",
   "execution_count": 16,
   "metadata": {},
   "outputs": [],
   "source": [
    "model = Sequential()\n",
    "model.add(Embedding(vocab,10, input_length=3))\n",
    "model.add(LSTM(50,return_sequences=True))\n",
    "model.add(LSTM(50))\n",
    "model.add(Dense(50,activation='relu'))\n",
    "model.add(Dense(vocab, activation='relu'))"
   ]
  },
  {
   "cell_type": "code",
   "execution_count": 17,
   "metadata": {},
   "outputs": [
    {
     "name": "stdout",
     "output_type": "stream",
     "text": [
      "Model: \"sequential_1\"\n",
      "_________________________________________________________________\n",
      "Layer (type)                 Output Shape              Param #   \n",
      "=================================================================\n",
      "embedding_1 (Embedding)      (None, 3, 10)             82010     \n",
      "_________________________________________________________________\n",
      "lstm_2 (LSTM)                (None, 3, 50)             12200     \n",
      "_________________________________________________________________\n",
      "lstm_3 (LSTM)                (None, 50)                20200     \n",
      "_________________________________________________________________\n",
      "dense_2 (Dense)              (None, 50)                2550      \n",
      "_________________________________________________________________\n",
      "dense_3 (Dense)              (None, 8201)              418251    \n",
      "=================================================================\n",
      "Total params: 535,211\n",
      "Trainable params: 535,211\n",
      "Non-trainable params: 0\n",
      "_________________________________________________________________\n"
     ]
    }
   ],
   "source": [
    "model.summary()"
   ]
  },
  {
   "cell_type": "code",
   "execution_count": 18,
   "metadata": {},
   "outputs": [
    {
     "name": "stdout",
     "output_type": "stream",
     "text": [
      "Model: \"sequential_1\"\n",
      "_________________________________________________________________\n",
      "Layer (type)                 Output Shape              Param #   \n",
      "=================================================================\n",
      "embedding_1 (Embedding)      (None, 3, 10)             82010     \n",
      "_________________________________________________________________\n",
      "lstm_2 (LSTM)                (None, 3, 50)             12200     \n",
      "_________________________________________________________________\n",
      "lstm_3 (LSTM)                (None, 50)                20200     \n",
      "_________________________________________________________________\n",
      "dense_2 (Dense)              (None, 50)                2550      \n",
      "_________________________________________________________________\n",
      "dense_3 (Dense)              (None, 8201)              418251    \n",
      "=================================================================\n",
      "Total params: 535,211\n",
      "Trainable params: 535,211\n",
      "Non-trainable params: 0\n",
      "_________________________________________________________________\n"
     ]
    }
   ],
   "source": [
    "model.compile(loss='categorical_crossentropy', optimizer='adam', metrics=['accuracy'])\n",
    "model.summary()"
   ]
  },
  {
   "cell_type": "code",
   "execution_count": 19,
   "metadata": {},
   "outputs": [
    {
     "name": "stdout",
     "output_type": "stream",
     "text": [
      "Epoch 1/50\n",
      "WARNING:tensorflow:Model was constructed with shape (None, 3) for input KerasTensor(type_spec=TensorSpec(shape=(None, 3), dtype=tf.float32, name='embedding_1_input'), name='embedding_1_input', description=\"created by layer 'embedding_1_input'\"), but it was called on an input with incompatible shape (None, 4).\n",
      "WARNING:tensorflow:Model was constructed with shape (None, 3) for input KerasTensor(type_spec=TensorSpec(shape=(None, 3), dtype=tf.float32, name='embedding_1_input'), name='embedding_1_input', description=\"created by layer 'embedding_1_input'\"), but it was called on an input with incompatible shape (None, 4).\n",
      "812/812 [==============================] - ETA: 0s - loss: 11.9723 - accuracy: 0.0485WARNING:tensorflow:Model was constructed with shape (None, 3) for input KerasTensor(type_spec=TensorSpec(shape=(None, 3), dtype=tf.float32, name='embedding_1_input'), name='embedding_1_input', description=\"created by layer 'embedding_1_input'\"), but it was called on an input with incompatible shape (None, 4).\n",
      "812/812 [==============================] - 93s 100ms/step - loss: 11.9724 - accuracy: 0.0485 - val_loss: 12.6458 - val_accuracy: 0.0560\n",
      "Epoch 2/50\n",
      "812/812 [==============================] - 38s 47ms/step - loss: 11.9487 - accuracy: 0.0566 - val_loss: 12.6170 - val_accuracy: 0.0635\n",
      "Epoch 3/50\n",
      "812/812 [==============================] - 46s 57ms/step - loss: 11.9113 - accuracy: 0.0681 - val_loss: 12.6571 - val_accuracy: 0.0703\n",
      "Epoch 4/50\n",
      "812/812 [==============================] - 40s 49ms/step - loss: 11.8799 - accuracy: 0.0772 - val_loss: 12.6076 - val_accuracy: 0.0695\n",
      "Epoch 5/50\n",
      "812/812 [==============================] - 43s 53ms/step - loss: 11.8609 - accuracy: 0.0821 - val_loss: 12.6144 - val_accuracy: 0.0739\n",
      "Epoch 6/50\n",
      "812/812 [==============================] - 39s 48ms/step - loss: 11.8762 - accuracy: 0.0838 - val_loss: 12.5742 - val_accuracy: 0.0677\n",
      "Epoch 7/50\n",
      "812/812 [==============================] - 40s 49ms/step - loss: 11.8336 - accuracy: 0.0905 - val_loss: 12.6113 - val_accuracy: 0.0650\n",
      "Epoch 8/50\n",
      "812/812 [==============================] - 41s 50ms/step - loss: 11.8301 - accuracy: 0.0887 - val_loss: 12.6037 - val_accuracy: 0.0695 loss: 11.8301 - accu\n",
      "Epoch 9/50\n",
      "812/812 [==============================] - 40s 49ms/step - loss: 11.8000 - accuracy: 0.0925 - val_loss: 12.6212 - val_accuracy: 0.0655\n",
      "Epoch 10/50\n",
      "812/812 [==============================] - 38s 47ms/step - loss: 11.7726 - accuracy: 0.0973 - val_loss: 12.6165 - val_accuracy: 0.0683\n",
      "Epoch 11/50\n",
      "812/812 [==============================] - 40s 49ms/step - loss: 11.7713 - accuracy: 0.1016 - val_loss: 12.6168 - val_accuracy: 0.0686\n",
      "Epoch 12/50\n",
      "812/812 [==============================] - 41s 51ms/step - loss: 11.7813 - accuracy: 0.1072 - val_loss: 12.6202 - val_accuracy: 0.0668\n",
      "Epoch 13/50\n",
      "812/812 [==============================] - 39s 48ms/step - loss: 11.8278 - accuracy: 0.1000 - val_loss: 12.6585 - val_accuracy: 0.0736\n",
      "Epoch 14/50\n",
      "812/812 [==============================] - 41s 50ms/step - loss: 11.7872 - accuracy: 0.1106 - val_loss: 12.7232 - val_accuracy: 0.0721\n",
      "Epoch 15/50\n",
      "812/812 [==============================] - 40s 50ms/step - loss: 11.7558 - accuracy: 0.1133 - val_loss: 12.6663 - val_accuracy: 0.0712\n",
      "Epoch 16/50\n",
      "812/812 [==============================] - 38s 47ms/step - loss: 11.7934 - accuracy: 0.1085 - val_loss: 12.7417 - val_accuracy: 0.0732\n",
      "Epoch 17/50\n",
      "812/812 [==============================] - 37s 45ms/step - loss: 11.7089 - accuracy: 0.1189 - val_loss: 12.6927 - val_accuracy: 0.0728\n",
      "Epoch 18/50\n",
      "812/812 [==============================] - 38s 46ms/step - loss: 11.7424 - accuracy: 0.1201 - val_loss: 12.8021 - val_accuracy: 0.0736\n",
      "Epoch 19/50\n",
      "812/812 [==============================] - 39s 48ms/step - loss: 11.7713 - accuracy: 0.1223 - val_loss: 12.7670 - val_accuracy: 0.0688\n",
      "Epoch 20/50\n",
      "812/812 [==============================] - 37s 46ms/step - loss: 11.7281 - accuracy: 0.1236 - val_loss: 12.7996 - val_accuracy: 0.0695\n",
      "Epoch 21/50\n",
      "812/812 [==============================] - 37s 45ms/step - loss: 11.6947 - accuracy: 0.1267 - val_loss: 12.8346 - val_accuracy: 0.0727\n",
      "Epoch 22/50\n",
      "812/812 [==============================] - 39s 47ms/step - loss: 11.7207 - accuracy: 0.1241 - val_loss: 12.8601 - val_accuracy: 0.0745\n",
      "Epoch 23/50\n",
      "812/812 [==============================] - 37s 45ms/step - loss: 11.7552 - accuracy: 0.1207 - val_loss: 12.7934 - val_accuracy: 0.0705\n",
      "Epoch 24/50\n",
      "812/812 [==============================] - 36s 45ms/step - loss: 11.7616 - accuracy: 0.1234 - val_loss: 12.7576 - val_accuracy: 0.0721\n",
      "Epoch 25/50\n",
      "812/812 [==============================] - 38s 46ms/step - loss: 11.7359 - accuracy: 0.1295 - val_loss: 12.9223 - val_accuracy: 0.0723\n",
      "Epoch 26/50\n",
      "812/812 [==============================] - 38s 47ms/step - loss: nan - accuracy: 0.1278 - val_loss: nan - val_accuracy: 0.0000e+00\n",
      "Epoch 27/50\n",
      "812/812 [==============================] - 37s 46ms/step - loss: nan - accuracy: 0.0000e+00 - val_loss: nan - val_accuracy: 0.0000e+00\n",
      "Epoch 28/50\n",
      "812/812 [==============================] - 37s 46ms/step - loss: nan - accuracy: 0.0000e+00 - val_loss: nan - val_accuracy: 0.0000e+00\n",
      "Epoch 29/50\n",
      "812/812 [==============================] - 38s 46ms/step - loss: nan - accuracy: 0.0000e+00 - val_loss: nan - val_accuracy: 0.0000e+00\n",
      "Epoch 30/50\n",
      "812/812 [==============================] - 38s 46ms/step - loss: nan - accuracy: 0.0000e+00 - val_loss: nan - val_accuracy: 0.0000e+00\n",
      "Epoch 31/50\n",
      "812/812 [==============================] - 39s 48ms/step - loss: nan - accuracy: 0.0000e+00 - val_loss: nan - val_accuracy: 0.0000e+00\n",
      "Epoch 32/50\n",
      "812/812 [==============================] - 37s 45ms/step - loss: nan - accuracy: 0.0000e+00 - val_loss: nan - val_accuracy: 0.0000e+00\n",
      "Epoch 33/50\n",
      "812/812 [==============================] - 38s 47ms/step - loss: nan - accuracy: 0.0000e+00 - val_loss: nan - val_accuracy: 0.0000e+00\n",
      "Epoch 34/50\n",
      "812/812 [==============================] - 38s 47ms/step - loss: nan - accuracy: 0.0000e+00 - val_loss: nan - val_accuracy: 0.0000e+00\n",
      "Epoch 35/50\n",
      "812/812 [==============================] - 38s 46ms/step - loss: nan - accuracy: 0.0000e+00 - val_loss: nan - val_accuracy: 0.0000e+00\n",
      "Epoch 36/50\n",
      "812/812 [==============================] - 39s 48ms/step - loss: nan - accuracy: 0.0000e+00 - val_loss: nan - val_accuracy: 0.0000e+00\n",
      "Epoch 37/50\n",
      "812/812 [==============================] - 37s 45ms/step - loss: nan - accuracy: 0.0000e+00 - val_loss: nan - val_accuracy: 0.0000e+00\n",
      "Epoch 38/50\n",
      "812/812 [==============================] - 38s 46ms/step - loss: nan - accuracy: 0.0000e+00 - val_loss: nan - val_accuracy: 0.0000e+00\n",
      "Epoch 39/50\n",
      "812/812 [==============================] - 39s 48ms/step - loss: nan - accuracy: 0.0000e+00 - val_loss: nan - val_accuracy: 0.0000e+00\n",
      "Epoch 40/50\n",
      "812/812 [==============================] - 37s 45ms/step - loss: nan - accuracy: 0.0000e+00 - val_loss: nan - val_accuracy: 0.0000e+00\n",
      "Epoch 41/50\n",
      "812/812 [==============================] - 38s 46ms/step - loss: nan - accuracy: 0.0000e+00 - val_loss: nan - val_accuracy: 0.0000e+00\n",
      "Epoch 42/50\n",
      "812/812 [==============================] - 40s 50ms/step - loss: nan - accuracy: 0.0000e+00 - val_loss: nan - val_accuracy: 0.0000e+00\n",
      "Epoch 43/50\n",
      "812/812 [==============================] - 39s 48ms/step - loss: nan - accuracy: 0.0000e+00 - val_loss: nan - val_accuracy: 0.0000e+00\n",
      "Epoch 44/50\n",
      "812/812 [==============================] - 42s 51ms/step - loss: nan - accuracy: 0.0000e+00 - val_loss: nan - val_accuracy: 0.0000e+00\n",
      "Epoch 45/50\n",
      "812/812 [==============================] - 40s 50ms/step - loss: nan - accuracy: 0.0000e+00 - val_loss: nan - val_accuracy: 0.0000e+00\n",
      "Epoch 46/50\n",
      "812/812 [==============================] - 41s 50ms/step - loss: nan - accuracy: 0.0000e+00 - val_loss: nan - val_accuracy: 0.0000e+00\n",
      "Epoch 47/50\n",
      "812/812 [==============================] - 41s 50ms/step - loss: nan - accuracy: 0.0000e+00 - val_loss: nan - val_accuracy: 0.0000e+00\n",
      "Epoch 48/50\n",
      "812/812 [==============================] - 42s 52ms/step - loss: nan - accuracy: 0.0000e+00 - val_loss: nan - val_accuracy: 0.0000e+00\n",
      "Epoch 49/50\n",
      "812/812 [==============================] - 40s 50ms/step - loss: nan - accuracy: 0.0000e+00 - val_loss: nan - val_accuracy: 0.0000e+00\n"
     ]
    },
    {
     "name": "stdout",
     "output_type": "stream",
     "text": [
      "Epoch 50/50\n",
      "812/812 [==============================] - 40s 50ms/step - loss: nan - accuracy: 0.0000e+00 - val_loss: nan - val_accuracy: 0.0000e+00\n"
     ]
    }
   ],
   "source": [
    "history = model.fit(x, y,validation_split=0.05,batch_size=128, epochs=50)"
   ]
  },
  {
   "cell_type": "code",
   "execution_count": 55,
   "metadata": {},
   "outputs": [
    {
     "name": "stdout",
     "output_type": "stream",
     "text": [
      "Enter the phrase: adventures of sherlock holmes\n"
     ]
    }
   ],
   "source": [
    "text = str(input(\"Enter the phrase: \")).strip().lower()"
   ]
  },
  {
   "cell_type": "code",
   "execution_count": 56,
   "metadata": {},
   "outputs": [
    {
     "ename": "KeyError",
     "evalue": "0",
     "output_type": "error",
     "traceback": [
      "\u001b[1;31m---------------------------------------------------------------------------\u001b[0m",
      "\u001b[1;31mKeyError\u001b[0m                                  Traceback (most recent call last)",
      "\u001b[1;32m<ipython-input-56-ccc379567eb3>\u001b[0m in \u001b[0;36m<module>\u001b[1;34m\u001b[0m\n\u001b[0;32m      8\u001b[0m \u001b[0mlabel\u001b[0m \u001b[1;33m=\u001b[0m \u001b[0mpredicted_word\u001b[0m\u001b[1;33m.\u001b[0m\u001b[0margmax\u001b[0m\u001b[1;33m(\u001b[0m\u001b[0maxis\u001b[0m\u001b[1;33m=\u001b[0m\u001b[1;36m1\u001b[0m\u001b[1;33m)\u001b[0m\u001b[1;33m\u001b[0m\u001b[1;33m\u001b[0m\u001b[0m\n\u001b[0;32m      9\u001b[0m \u001b[1;33m\u001b[0m\u001b[0m\n\u001b[1;32m---> 10\u001b[1;33m \u001b[0mtokenizer\u001b[0m\u001b[1;33m.\u001b[0m\u001b[0mindex_word\u001b[0m\u001b[1;33m[\u001b[0m\u001b[0mlabel\u001b[0m\u001b[1;33m[\u001b[0m\u001b[1;36m0\u001b[0m\u001b[1;33m]\u001b[0m\u001b[1;33m]\u001b[0m\u001b[1;33m\u001b[0m\u001b[1;33m\u001b[0m\u001b[0m\n\u001b[0m",
      "\u001b[1;31mKeyError\u001b[0m: 0"
     ]
    }
   ],
   "source": [
    "# Frunctions to predict the next word(s)\n",
    "\n",
    "# # def predict(model,text):\n",
    "# text = text.lower()\n",
    "# encoded_text = tokenizer.texts_to_sequences([text])[0]\n",
    "# # test_sequences = tokenizer.texts_to_sequences([text])\n",
    "# pad_encoded = pad_sequences([encoded_text], maxlen=3, truncating='pre')\n",
    "# for i in (model.predict(pad_encoded)[0]).argsort()[-3:][::-1]:\n",
    "#     print(i)\n",
    "#     pred_word = tokenizer.index_word[i]\n",
    "#     print(\"Next word suggestion:\",pred_word)\n",
    "\n",
    "# predicted_word = model.predict(pad_encoded)\n",
    "# label = predicted_word.argmax(axis=1)\n",
    "\n",
    "# tokenizer.index_word[label[0]]"
   ]
  },
  {
   "cell_type": "code",
   "execution_count": 23,
   "metadata": {},
   "outputs": [],
   "source": []
  },
  {
   "cell_type": "code",
   "execution_count": null,
   "metadata": {},
   "outputs": [],
   "source": []
  },
  {
   "cell_type": "code",
   "execution_count": 49,
   "metadata": {},
   "outputs": [
    {
     "ename": "KeyError",
     "evalue": "0",
     "output_type": "error",
     "traceback": [
      "\u001b[1;31m---------------------------------------------------------------------------\u001b[0m",
      "\u001b[1;31mKeyError\u001b[0m                                  Traceback (most recent call last)",
      "\u001b[1;32m<ipython-input-49-29526eafea12>\u001b[0m in \u001b[0;36m<module>\u001b[1;34m\u001b[0m\n\u001b[1;32m----> 1\u001b[1;33m \u001b[0mpredict\u001b[0m\u001b[1;33m(\u001b[0m\u001b[0mmodel\u001b[0m\u001b[1;33m,\u001b[0m \u001b[1;34m\"adventures of sherlock holmes by\"\u001b[0m\u001b[1;33m)\u001b[0m\u001b[1;33m\u001b[0m\u001b[1;33m\u001b[0m\u001b[0m\n\u001b[0m",
      "\u001b[1;32m<ipython-input-45-3b1f77ba2061>\u001b[0m in \u001b[0;36mpredict\u001b[1;34m(model, text)\u001b[0m\n\u001b[0;32m      7\u001b[0m   \u001b[0mpredicted_word\u001b[0m \u001b[1;33m=\u001b[0m \u001b[0mmodel\u001b[0m\u001b[1;33m.\u001b[0m\u001b[0mpredict\u001b[0m\u001b[1;33m(\u001b[0m\u001b[0mpad_encoded\u001b[0m\u001b[1;33m)\u001b[0m\u001b[1;33m\u001b[0m\u001b[1;33m\u001b[0m\u001b[0m\n\u001b[0;32m      8\u001b[0m   \u001b[0mlabel\u001b[0m \u001b[1;33m=\u001b[0m \u001b[0mpredicted_word\u001b[0m\u001b[1;33m.\u001b[0m\u001b[0margmax\u001b[0m\u001b[1;33m(\u001b[0m\u001b[0maxis\u001b[0m\u001b[1;33m=\u001b[0m\u001b[1;36m0\u001b[0m\u001b[1;33m)\u001b[0m\u001b[1;33m\u001b[0m\u001b[1;33m\u001b[0m\u001b[0m\n\u001b[1;32m----> 9\u001b[1;33m   \u001b[1;32mreturn\u001b[0m \u001b[0mtokenizer\u001b[0m\u001b[1;33m.\u001b[0m\u001b[0mindex_word\u001b[0m\u001b[1;33m[\u001b[0m\u001b[0mlabel\u001b[0m\u001b[1;33m[\u001b[0m\u001b[1;36m0\u001b[0m\u001b[1;33m]\u001b[0m\u001b[1;33m]\u001b[0m\u001b[1;33m\u001b[0m\u001b[1;33m\u001b[0m\u001b[0m\n\u001b[0m",
      "\u001b[1;31mKeyError\u001b[0m: 0"
     ]
    }
   ],
   "source": [
    "# predict(model, \"adventures of sherlock holmes by\")"
   ]
  },
  {
   "cell_type": "code",
   "execution_count": 36,
   "metadata": {},
   "outputs": [],
   "source": [
    "# generate_text(model, \"Harry took the invisibility\", max_words=10)"
   ]
  },
  {
   "cell_type": "code",
   "execution_count": 59,
   "metadata": {},
   "outputs": [
    {
     "name": "stdout",
     "output_type": "stream",
     "text": [
      "adventures of sherlock\n",
      "[983, 5, 125] [[983   5 125]]\n",
      "8200\n",
      "Next word suggestion: newsletter\n",
      "2562\n",
      "Next word suggestion: factor\n",
      "2724\n",
      "Next word suggestion: handy\n"
     ]
    }
   ],
   "source": [
    "input_text = input().strip().lower()\n",
    "encoded_text = tokenizer.texts_to_sequences([input_text])[0]\n",
    "pad_encoded = pad_sequences([encoded_text], maxlen=3, truncating='pre')\n",
    "# print(encoded_text, pad_encoded)\n",
    "for i in (model.predict(pad_encoded)[0]).argsort()[-3:][::-1]:\n",
    "    pred_word = tokenizer.index_word[i]\n",
    "    print(\"Next word suggestion:\",pred_word)"
   ]
  },
  {
   "cell_type": "code",
   "execution_count": null,
   "metadata": {},
   "outputs": [],
   "source": []
  }
 ],
 "metadata": {
  "kernelspec": {
   "display_name": "Python 3",
   "language": "python",
   "name": "python3"
  },
  "language_info": {
   "codemirror_mode": {
    "name": "ipython",
    "version": 3
   },
   "file_extension": ".py",
   "mimetype": "text/x-python",
   "name": "python",
   "nbconvert_exporter": "python",
   "pygments_lexer": "ipython3",
   "version": "3.8.5"
  }
 },
 "nbformat": 4,
 "nbformat_minor": 4
}
