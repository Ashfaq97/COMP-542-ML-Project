{
 "cells": [
  {
   "cell_type": "code",
   "execution_count": 21,
   "metadata": {},
   "outputs": [],
   "source": [
    "import sys\n",
    "import re\n",
    "import numpy as np\n",
    "import pandas as pd\n",
    "import matplotlib as plt\n",
    "from nltk.tokenize import RegexpTokenizer\n",
    "from nltk.tokenize import word_tokenize\n",
    "from tensorflow.keras.preprocessing.text import Tokenizer\n",
    "from tensorflow.keras.utils import to_categorical\n",
    "\n",
    "# np.set_printoptions(edgeitems=3)\n",
    "# np.core.arrayprint._line_width = 80"
   ]
  },
  {
   "cell_type": "code",
   "execution_count": 5,
   "metadata": {},
   "outputs": [
    {
     "name": "stdout",
     "output_type": "stream",
     "text": [
      "length of the corpus is:  581888\n"
     ]
    }
   ],
   "source": [
    "path = 'data.txt'\n",
    "data = open(path, 'r', encoding='utf-8').read().lower()\n",
    "print('length of the corpus is: ', len(data))"
   ]
  },
  {
   "cell_type": "code",
   "execution_count": 6,
   "metadata": {},
   "outputs": [
    {
     "name": "stdout",
     "output_type": "stream",
     "text": [
      "Length of tokens: 109281\n"
     ]
    }
   ],
   "source": [
    "# splitting the corpus into words\n",
    "\n",
    "cleaned = re.sub(r'\\W+', ' ', data).lower()\n",
    "tokens = word_tokenize(cleaned)\n",
    "print('Length of tokens: ' + str(len(tokens)))\n",
    "\n",
    "# This includes all full stops and all the punctuation. We only need the words...\n",
    "# tokenizer = RegexpTokenizer(r'\\w+|\\$[\\d\\.]+|\\S+')\n",
    "# words = tokenizer.tokenize(data)\n",
    "# len(words)"
   ]
  },
  {
   "cell_type": "code",
   "execution_count": 7,
   "metadata": {},
   "outputs": [
    {
     "data": {
      "text/plain": [
       "8200"
      ]
     },
     "execution_count": 7,
     "metadata": {},
     "output_type": "execute_result"
    }
   ],
   "source": [
    "# Finding all the unique words\n",
    "\n",
    "unique_words = np.unique(tokens)\n",
    "len(unique_words)"
   ]
  },
  {
   "cell_type": "code",
   "execution_count": null,
   "metadata": {},
   "outputs": [],
   "source": []
  },
  {
   "cell_type": "code",
   "execution_count": 13,
   "metadata": {},
   "outputs": [],
   "source": [
    "# Feature Engineering - converting the text into numerical values\n",
    "\n",
    "train_len = 5\n",
    "text_sequences = []\n",
    "for i in range(train_len,len(tokens)):\n",
    "    seq = tokens[i-train_len:i]\n",
    "    text_sequences.append(seq)\n"
   ]
  },
  {
   "cell_type": "code",
   "execution_count": 14,
   "metadata": {},
   "outputs": [
    {
     "data": {
      "text/plain": [
       "[['project', 'gutenberg', 's', 'the', 'adventures'],\n",
       " ['gutenberg', 's', 'the', 'adventures', 'of'],\n",
       " ['s', 'the', 'adventures', 'of', 'sherlock'],\n",
       " ['the', 'adventures', 'of', 'sherlock', 'holmes'],\n",
       " ['adventures', 'of', 'sherlock', 'holmes', 'by'],\n",
       " ['of', 'sherlock', 'holmes', 'by', 'arthur'],\n",
       " ['sherlock', 'holmes', 'by', 'arthur', 'conan'],\n",
       " ['holmes', 'by', 'arthur', 'conan', 'doyle'],\n",
       " ['by', 'arthur', 'conan', 'doyle', 'this'],\n",
       " ['arthur', 'conan', 'doyle', 'this', 'ebook']]"
      ]
     },
     "execution_count": 14,
     "metadata": {},
     "output_type": "execute_result"
    }
   ],
   "source": [
    "text_sequences[0:10]"
   ]
  },
  {
   "cell_type": "code",
   "execution_count": 15,
   "metadata": {},
   "outputs": [
    {
     "name": "stdout",
     "output_type": "stream",
     "text": [
      "Found 8200 unique tokens.\n"
     ]
    }
   ],
   "source": [
    "# Getting unique tokens\n",
    "\n",
    "tokenizer = Tokenizer()\n",
    "tokenizer.fit_on_texts(text_sequences)\n",
    "train_sequences = tokenizer.texts_to_sequences(text_sequences)\n",
    "print('Found %s unique tokens.' % len(tokenizer.word_counts))\n",
    "vocab =  len(tokenizer.word_counts)+1"
   ]
  },
  {
   "cell_type": "code",
   "execution_count": 16,
   "metadata": {},
   "outputs": [
    {
     "name": "stdout",
     "output_type": "stream",
     "text": [
      "109276\n"
     ]
    }
   ],
   "source": [
    "print(len(train_sequences))"
   ]
  },
  {
   "cell_type": "code",
   "execution_count": 17,
   "metadata": {},
   "outputs": [],
   "source": [
    "# creating an empty array\n",
    "\n",
    "n_sequences = np.empty([len(train_sequences),train_len], dtype='int32')\n",
    "for i in range(len(train_sequences)):\n",
    "    n_sequences[i] = train_sequences[i]\n",
    "\n",
    "x = n_sequences[:,:-1]\n",
    "y = n_sequences[:,-1]"
   ]
  },
  {
   "cell_type": "code",
   "execution_count": 22,
   "metadata": {},
   "outputs": [],
   "source": [
    "# Converting the input into binary\n",
    "\n",
    "y = to_categorical(y,num_classes=vocab)"
   ]
  },
  {
   "cell_type": "code",
   "execution_count": 24,
   "metadata": {},
   "outputs": [],
   "source": [
    "# Building the Model\n",
    "\n",
    "from tensorflow.keras.models import Sequential, load_model\n",
    "from tensorflow.keras.layers import LSTM, Dense, Embedding"
   ]
  },
  {
   "cell_type": "code",
   "execution_count": null,
   "metadata": {},
   "outputs": [],
   "source": []
  }
 ],
 "metadata": {
  "kernelspec": {
   "display_name": "Python 3",
   "language": "python",
   "name": "python3"
  }
 },
 "nbformat": 4,
 "nbformat_minor": 4
}
