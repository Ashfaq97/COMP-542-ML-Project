{
 "cells": [
  {
   "cell_type": "code",
   "execution_count": 3,
   "metadata": {},
   "outputs": [],
   "source": [
    "import sys\n",
    "import re\n",
    "import numpy as np\n",
    "import pandas as pd\n",
    "import matplotlib as plt\n",
    "from nltk.tokenize import RegexpTokenizer\n",
    "from nltk.tokenize import word_tokenize\n",
    "from tensorflow.keras.preprocessing.text import Tokenizer\n",
    "from tensorflow.keras.utils import to_categorical\n",
    "\n",
    "# np.set_printoptions(edgeitems=3)\n",
    "# np.core.arrayprint._line_width = 80"
   ]
  },
  {
   "cell_type": "code",
   "execution_count": 4,
   "metadata": {},
   "outputs": [
    {
     "name": "stdout",
     "output_type": "stream",
     "text": [
      "length of the corpus is:  581888\n"
     ]
    }
   ],
   "source": [
    "path = 'data.txt'\n",
    "data = open(path, 'r', encoding='utf-8').read().lower()\n",
    "print('length of the corpus is: ', len(data))"
   ]
  },
  {
   "cell_type": "code",
   "execution_count": 5,
   "metadata": {},
   "outputs": [
    {
     "name": "stdout",
     "output_type": "stream",
     "text": [
      "Length of tokens: 109281\n"
     ]
    }
   ],
   "source": [
    "# splitting the corpus into words\n",
    "\n",
    "cleaned = re.sub(r'\\W+', ' ', data).lower()\n",
    "tokens = word_tokenize(cleaned)\n",
    "print('Length of tokens: ' + str(len(tokens)))\n",
    "\n",
    "# This includes all full stops and all the punctuation. We only need the words...\n",
    "# tokenizer = RegexpTokenizer(r'\\w+|\\$[\\d\\.]+|\\S+')\n",
    "# words = tokenizer.tokenize(data)\n",
    "# len(words)"
   ]
  },
  {
   "cell_type": "code",
   "execution_count": 6,
   "metadata": {},
   "outputs": [
    {
     "data": {
      "text/plain": [
       "8200"
      ]
     },
     "execution_count": 6,
     "metadata": {},
     "output_type": "execute_result"
    }
   ],
   "source": [
    "# Finding all the unique words\n",
    "\n",
    "unique_words = np.unique(tokens)\n",
    "len(unique_words)"
   ]
  },
  {
   "cell_type": "code",
   "execution_count": null,
   "metadata": {},
   "outputs": [],
   "source": []
  },
  {
   "cell_type": "code",
   "execution_count": 7,
   "metadata": {},
   "outputs": [],
   "source": [
    "# Feature Engineering - converting the text into sequences \n",
    "\n",
    "train_len = 5\n",
    "text_sequences = []\n",
    "for i in range(train_len,len(tokens)):\n",
    "    seq = tokens[i-train_len:i]\n",
    "    text_sequences.append(seq)\n"
   ]
  },
  {
   "cell_type": "code",
   "execution_count": 8,
   "metadata": {},
   "outputs": [
    {
     "data": {
      "text/plain": [
       "[['project', 'gutenberg', 's', 'the', 'adventures'],\n",
       " ['gutenberg', 's', 'the', 'adventures', 'of'],\n",
       " ['s', 'the', 'adventures', 'of', 'sherlock'],\n",
       " ['the', 'adventures', 'of', 'sherlock', 'holmes'],\n",
       " ['adventures', 'of', 'sherlock', 'holmes', 'by'],\n",
       " ['of', 'sherlock', 'holmes', 'by', 'arthur'],\n",
       " ['sherlock', 'holmes', 'by', 'arthur', 'conan'],\n",
       " ['holmes', 'by', 'arthur', 'conan', 'doyle'],\n",
       " ['by', 'arthur', 'conan', 'doyle', 'this'],\n",
       " ['arthur', 'conan', 'doyle', 'this', 'ebook']]"
      ]
     },
     "execution_count": 8,
     "metadata": {},
     "output_type": "execute_result"
    }
   ],
   "source": [
    "text_sequences[0:10]"
   ]
  },
  {
   "cell_type": "code",
   "execution_count": 9,
   "metadata": {},
   "outputs": [
    {
     "name": "stdout",
     "output_type": "stream",
     "text": [
      "Found 8200 unique tokens.\n"
     ]
    }
   ],
   "source": [
    "# Getting unique tokens\n",
    "\n",
    "tokenizer = Tokenizer()\n",
    "tokenizer.fit_on_texts(text_sequences)\n",
    "train_sequences = tokenizer.texts_to_sequences(text_sequences)\n",
    "print('Found %s unique tokens.' % len(tokenizer.word_counts))\n",
    "vocab =  len(tokenizer.word_counts)+1"
   ]
  },
  {
   "cell_type": "code",
   "execution_count": 10,
   "metadata": {},
   "outputs": [
    {
     "name": "stdout",
     "output_type": "stream",
     "text": [
      "109276\n"
     ]
    }
   ],
   "source": [
    "print(len(train_sequences))"
   ]
  },
  {
   "cell_type": "code",
   "execution_count": 11,
   "metadata": {},
   "outputs": [],
   "source": [
    "n_sequences = np.empty([len(train_sequences),train_len], dtype='int32')\n",
    "for i in range(len(train_sequences)):\n",
    "    n_sequences[i] = train_sequences[i]\n",
    "\n",
    "x = n_sequences[:,:-1]\n",
    "y = n_sequences[:,-1]"
   ]
  },
  {
   "cell_type": "code",
   "execution_count": 12,
   "metadata": {},
   "outputs": [],
   "source": [
    "# Converting the input into binary\n",
    "\n",
    "y = to_categorical(y,num_classes=vocab)"
   ]
  },
  {
   "cell_type": "code",
   "execution_count": 13,
   "metadata": {},
   "outputs": [],
   "source": [
    "# Building the Model\n",
    "\n",
    "from tensorflow.keras.models import Sequential, load_model\n",
    "from tensorflow.keras.layers import LSTM, Dense, Embedding\n",
    "from tensorflow.keras.preprocessing.sequence import pad_sequences"
   ]
  },
  {
   "cell_type": "code",
   "execution_count": 14,
   "metadata": {},
   "outputs": [],
   "source": [
    "model = Sequential()\n",
    "model.add(Embedding(vocab,10, input_length=3))\n",
    "model.add(LSTM(50,return_sequences=True))\n",
    "model.add(LSTM(50))\n",
    "model.add(Dense(50,activation='relu'))\n",
    "model.add(Dense(vocab, activation='relu'))"
   ]
  },
  {
   "cell_type": "code",
   "execution_count": 14,
   "metadata": {},
   "outputs": [
    {
     "name": "stdout",
     "output_type": "stream",
     "text": [
      "Model: \"sequential\"\n",
      "_________________________________________________________________\n",
      "Layer (type)                 Output Shape              Param #   \n",
      "=================================================================\n",
      "embedding (Embedding)        (None, 3, 10)             82010     \n",
      "_________________________________________________________________\n",
      "lstm (LSTM)                  (None, 3, 50)             12200     \n",
      "_________________________________________________________________\n",
      "lstm_1 (LSTM)                (None, 50)                20200     \n",
      "_________________________________________________________________\n",
      "dense (Dense)                (None, 50)                2550      \n",
      "_________________________________________________________________\n",
      "dense_1 (Dense)              (None, 8201)              418251    \n",
      "=================================================================\n",
      "Total params: 535,211\n",
      "Trainable params: 535,211\n",
      "Non-trainable params: 0\n",
      "_________________________________________________________________\n"
     ]
    }
   ],
   "source": [
    "model.summary()"
   ]
  },
  {
   "cell_type": "code",
   "execution_count": 15,
   "metadata": {},
   "outputs": [
    {
     "name": "stdout",
     "output_type": "stream",
     "text": [
      "Model: \"sequential\"\n",
      "_________________________________________________________________\n",
      "Layer (type)                 Output Shape              Param #   \n",
      "=================================================================\n",
      "embedding (Embedding)        (None, 3, 10)             82010     \n",
      "_________________________________________________________________\n",
      "lstm (LSTM)                  (None, 3, 50)             12200     \n",
      "_________________________________________________________________\n",
      "lstm_1 (LSTM)                (None, 50)                20200     \n",
      "_________________________________________________________________\n",
      "dense (Dense)                (None, 50)                2550      \n",
      "_________________________________________________________________\n",
      "dense_1 (Dense)              (None, 8201)              418251    \n",
      "=================================================================\n",
      "Total params: 535,211\n",
      "Trainable params: 535,211\n",
      "Non-trainable params: 0\n",
      "_________________________________________________________________\n"
     ]
    }
   ],
   "source": [
    "model.compile(loss='categorical_crossentropy', optimizer='adam', metrics=['accuracy'])\n",
    "model.summary()"
   ]
  },
  {
   "cell_type": "code",
   "execution_count": 16,
   "metadata": {},
   "outputs": [
    {
     "name": "stdout",
     "output_type": "stream",
     "text": [
      "Epoch 1/15\n",
      "WARNING:tensorflow:Model was constructed with shape (None, 3) for input KerasTensor(type_spec=TensorSpec(shape=(None, 3), dtype=tf.float32, name='embedding_input'), name='embedding_input', description=\"created by layer 'embedding_input'\"), but it was called on an input with incompatible shape (None, 4).\n",
      "WARNING:tensorflow:Model was constructed with shape (None, 3) for input KerasTensor(type_spec=TensorSpec(shape=(None, 3), dtype=tf.float32, name='embedding_input'), name='embedding_input', description=\"created by layer 'embedding_input'\"), but it was called on an input with incompatible shape (None, 4).\n",
      "812/812 [==============================] - ETA: 0s - loss: 12.4832 - accuracy: 0.0502WARNING:tensorflow:Model was constructed with shape (None, 3) for input KerasTensor(type_spec=TensorSpec(shape=(None, 3), dtype=tf.float32, name='embedding_input'), name='embedding_input', description=\"created by layer 'embedding_input'\"), but it was called on an input with incompatible shape (None, 4).\n",
      "812/812 [==============================] - 59s 65ms/step - loss: 12.4832 - accuracy: 0.0502 - val_loss: 13.3531 - val_accuracy: 0.0538\n",
      "Epoch 2/15\n",
      "812/812 [==============================] - 31s 38ms/step - loss: 12.4813 - accuracy: 0.0545 - val_loss: 13.3534 - val_accuracy: 0.0551\n",
      "Epoch 3/15\n",
      "812/812 [==============================] - 30s 38ms/step - loss: 12.4344 - accuracy: 0.0619 - val_loss: 13.3502 - val_accuracy: 0.0551\n",
      "Epoch 4/15\n",
      "812/812 [==============================] - 29s 36ms/step - loss: 12.3988 - accuracy: 0.0661 - val_loss: 13.3561 - val_accuracy: 0.0542\n",
      "Epoch 5/15\n",
      "812/812 [==============================] - 31s 38ms/step - loss: 12.3512 - accuracy: 0.0786 - val_loss: 13.3708 - val_accuracy: 0.0575\n",
      "Epoch 6/15\n",
      "812/812 [==============================] - 31s 38ms/step - loss: 12.3376 - accuracy: 0.0910 - val_loss: 13.3985 - val_accuracy: 0.0593\n",
      "Epoch 7/15\n",
      "812/812 [==============================] - 31s 38ms/step - loss: 12.3273 - accuracy: 0.0912 - val_loss: 13.3743 - val_accuracy: 0.0556\n",
      "Epoch 8/15\n",
      "812/812 [==============================] - 31s 38ms/step - loss: 12.3569 - accuracy: 0.1000 - val_loss: 13.4168 - val_accuracy: 0.0587\n",
      "Epoch 9/15\n",
      "812/812 [==============================] - 32s 39ms/step - loss: 12.3516 - accuracy: 0.1029 - val_loss: 13.4793 - val_accuracy: 0.0595\n",
      "Epoch 10/15\n",
      "812/812 [==============================] - 30s 38ms/step - loss: 12.2969 - accuracy: 0.1094 - val_loss: 13.5166 - val_accuracy: 0.0584\n",
      "Epoch 11/15\n",
      "812/812 [==============================] - 31s 38ms/step - loss: 12.2921 - accuracy: 0.1149 - val_loss: 13.4979 - val_accuracy: 0.0476\n",
      "Epoch 12/15\n",
      "812/812 [==============================] - 31s 38ms/step - loss: 12.3094 - accuracy: 0.1076 - val_loss: 13.4767 - val_accuracy: 0.0611\n",
      "Epoch 13/15\n",
      "812/812 [==============================] - 30s 37ms/step - loss: 12.3079 - accuracy: 0.1079 - val_loss: 13.4055 - val_accuracy: 0.0445\n",
      "Epoch 14/15\n",
      "812/812 [==============================] - 30s 37ms/step - loss: 12.3349 - accuracy: 0.1025 - val_loss: 13.4449 - val_accuracy: 0.0591\n",
      "Epoch 15/15\n",
      "812/812 [==============================] - 30s 37ms/step - loss: 12.2608 - accuracy: 0.1159 - val_loss: 13.4680 - val_accuracy: 0.0582\n"
     ]
    }
   ],
   "source": [
    "history = model.fit(x, y,validation_split=0.05,batch_size=128, epochs=15)"
   ]
  },
  {
   "cell_type": "code",
   "execution_count": 15,
   "metadata": {},
   "outputs": [
    {
     "name": "stdout",
     "output_type": "stream",
     "text": [
      "Enter the phrase: adventures of sherlock\n"
     ]
    }
   ],
   "source": [
    "text = str(input(\"Enter the phrase: \")).strip().lower()"
   ]
  },
  {
   "cell_type": "code",
   "execution_count": null,
   "metadata": {},
   "outputs": [],
   "source": [
    "# Frunctions to predict the next word(s)\n",
    "\n",
    "# # def predict(model,text):\n",
    "# text = text.lower()\n",
    "# encoded_text = tokenizer.texts_to_sequences([text])[0]\n",
    "# # test_sequences = tokenizer.texts_to_sequences([text])\n",
    "# pad_encoded = pad_sequences([encoded_text], maxlen=3, truncating='pre')\n",
    "# for i in (model.predict(pad_encoded)[0]).argsort()[-3:][::-1]:\n",
    "#     print(i)\n",
    "#     pred_word = tokenizer.index_word[i]\n",
    "#     print(\"Next word suggestion:\",pred_word)\n",
    "\n",
    "# predicted_word = model.predict(pad_encoded)\n",
    "# label = predicted_word.argmax(axis=1)\n",
    "\n",
    "# tokenizer.index_word[label[0]]"
   ]
  },
  {
   "cell_type": "code",
   "execution_count": null,
   "metadata": {},
   "outputs": [],
   "source": []
  },
  {
   "cell_type": "code",
   "execution_count": 17,
   "metadata": {},
   "outputs": [
    {
     "name": "stdout",
     "output_type": "stream",
     "text": [
      "adventures of sherlock\n"
     ]
    }
   ],
   "source": [
    "input_text = input().strip().lower()"
   ]
  },
  {
   "cell_type": "code",
   "execution_count": null,
   "metadata": {},
   "outputs": [],
   "source": [
    "# predict(model, \"adventures of sherlock holmes by\")"
   ]
  },
  {
   "cell_type": "code",
   "execution_count": null,
   "metadata": {},
   "outputs": [],
   "source": [
    "# generate_text(model, \"Harry took the invisibility\", max_words=10)"
   ]
  },
  {
   "cell_type": "code",
   "execution_count": 17,
   "metadata": {},
   "outputs": [],
   "source": [
    "\n",
    "def predict(model, text):\n",
    "    input_text = text.lower()\n",
    "    encoded_text = tokenizer.texts_to_sequences([input_text])[0]\n",
    "    pad_encoded = pad_sequences([encoded_text], maxlen=3, truncating='pre')\n",
    "    # print(encoded_text, pad_encoded)\n",
    "    for i in (model.predict(pad_encoded)[0]).argsort()[-1:][::-1]:\n",
    "        pred_word = tokenizer.index_word[i]\n",
    "        return pred_word"
   ]
  },
  {
   "cell_type": "code",
   "execution_count": 18,
   "metadata": {},
   "outputs": [
    {
     "data": {
      "text/plain": [
       "'the'"
      ]
     },
     "execution_count": 18,
     "metadata": {},
     "output_type": "execute_result"
    }
   ],
   "source": [
    "predict(model, \"adventures of sherlock holmes by\")"
   ]
  },
  {
   "cell_type": "code",
   "execution_count": 19,
   "metadata": {},
   "outputs": [],
   "source": [
    "def generate_text(model, start_text, max_words =25):\n",
    "    output = start_text\n",
    "    for i in range(max_words):\n",
    "        output+=\" \"+predict(model,output)\n",
    "    return output"
   ]
  },
  {
   "cell_type": "code",
   "execution_count": 22,
   "metadata": {},
   "outputs": [
    {
     "data": {
      "text/plain": [
       "'adventures of sherlock and i was a'"
      ]
     },
     "execution_count": 22,
     "metadata": {},
     "output_type": "execute_result"
    }
   ],
   "source": [
    "generate_text(model, \"adventures of sherlock\", max_words=4)"
   ]
  },
  {
   "cell_type": "code",
   "execution_count": null,
   "metadata": {},
   "outputs": [],
   "source": []
  }
 ],
 "metadata": {
  "kernelspec": {
   "display_name": "Python 3",
   "language": "python",
   "name": "python3"
  },
  "language_info": {
   "codemirror_mode": {
    "name": "ipython",
    "version": 3
   },
   "file_extension": ".py",
   "mimetype": "text/x-python",
   "name": "python",
   "nbconvert_exporter": "python",
   "pygments_lexer": "ipython3",
   "version": "3.8.5"
  }
 },
 "nbformat": 4,
 "nbformat_minor": 4
}
