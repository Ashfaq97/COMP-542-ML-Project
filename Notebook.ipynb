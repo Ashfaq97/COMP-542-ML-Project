{
 "cells": [
  {
   "cell_type": "code",
   "execution_count": 10,
   "metadata": {},
   "outputs": [],
   "source": [
    "import sys\n",
    "import re\n",
    "import numpy as np\n",
    "import pandas as pd\n",
    "import matplotlib as plt\n",
    "from nltk.tokenize import RegexpTokenizer\n",
    "\n",
    "# np.set_printoptions(edgeitems=3)\n",
    "# np.core.arrayprint._line_width = 80"
   ]
  },
  {
   "cell_type": "code",
   "execution_count": 3,
   "metadata": {},
   "outputs": [
    {
     "name": "stdout",
     "output_type": "stream",
     "text": [
      "length of the corpus is:  581888\n"
     ]
    }
   ],
   "source": [
    "path = 'data.txt'\n",
    "data = open(path, 'r', encoding='utf-8').read().lower()\n",
    "print('length of the corpus is: ', len(data))"
   ]
  },
  {
   "cell_type": "code",
   "execution_count": 16,
   "metadata": {},
   "outputs": [
    {
     "name": "stdout",
     "output_type": "stream",
     "text": [
      "Length of tokens: 109226\n"
     ]
    }
   ],
   "source": [
    "# splitting the corpus into words\n",
    "\n",
    "cleaned = re.sub(r'\\W+', ' ', data).lower()\n",
    "tokens = tokenizer.tokenize(cleaned)\n",
    "print('Length of tokens: ' + str(len(tokens)))\n",
    "\n",
    "# This includes all full stops and all the punctuation. We only need the words...\n",
    "# tokenizer = RegexpTokenizer(r'\\w+|\\$[\\d\\.]+|\\S+')\n",
    "# words = tokenizer.tokenize(data)\n",
    "# len(words)"
   ]
  },
  {
   "cell_type": "code",
   "execution_count": 8,
   "metadata": {},
   "outputs": [
    {
     "data": {
      "text/plain": [
       "9358"
      ]
     },
     "execution_count": 8,
     "metadata": {},
     "output_type": "execute_result"
    }
   ],
   "source": [
    "# Finding all the unique words\n",
    "\n",
    "unique_words = np.unique(words)\n",
    "len(unique_words)"
   ]
  },
  {
   "cell_type": "code",
   "execution_count": 17,
   "metadata": {},
   "outputs": [],
   "source": [
    "# Feature Engineering - converting the text into numerical values\n",
    "\n",
    "train_len = 5\n",
    "text_sequences = []\n",
    "for i in range(train_len,len(tokens)):\n",
    "    seq = tokens[i-train_len:i]\n",
    "    text_sequences.append(seq)\n"
   ]
  },
  {
   "cell_type": "code",
   "execution_count": 20,
   "metadata": {},
   "outputs": [
    {
     "data": {
      "text/plain": [
       "[['project', 'gutenberg', 's', 'the', 'adventures'],\n",
       " ['gutenberg', 's', 'the', 'adventures', 'of'],\n",
       " ['s', 'the', 'adventures', 'of', 'sherlock'],\n",
       " ['the', 'adventures', 'of', 'sherlock', 'holmes'],\n",
       " ['adventures', 'of', 'sherlock', 'holmes', 'by'],\n",
       " ['of', 'sherlock', 'holmes', 'by', 'arthur'],\n",
       " ['sherlock', 'holmes', 'by', 'arthur', 'conan'],\n",
       " ['holmes', 'by', 'arthur', 'conan', 'doyle'],\n",
       " ['by', 'arthur', 'conan', 'doyle', 'this'],\n",
       " ['arthur', 'conan', 'doyle', 'this', 'ebook'],\n",
       " ['conan', 'doyle', 'this', 'ebook', 'is'],\n",
       " ['doyle', 'this', 'ebook', 'is', 'for'],\n",
       " ['this', 'ebook', 'is', 'for', 'the'],\n",
       " ['ebook', 'is', 'for', 'the', 'use'],\n",
       " ['is', 'for', 'the', 'use', 'of'],\n",
       " ['for', 'the', 'use', 'of', 'anyone'],\n",
       " ['the', 'use', 'of', 'anyone', 'anywhere'],\n",
       " ['use', 'of', 'anyone', 'anywhere', 'at'],\n",
       " ['of', 'anyone', 'anywhere', 'at', 'no'],\n",
       " ['anyone', 'anywhere', 'at', 'no', 'cost']]"
      ]
     },
     "execution_count": 20,
     "metadata": {},
     "output_type": "execute_result"
    }
   ],
   "source": [
    "text_sequences[0:20]"
   ]
  },
  {
   "cell_type": "code",
   "execution_count": null,
   "metadata": {},
   "outputs": [],
   "source": []
  }
 ],
 "metadata": {
  "kernelspec": {
   "display_name": "Python 3",
   "language": "python",
   "name": "python3"
  },
  "language_info": {
   "codemirror_mode": {
    "name": "ipython",
    "version": 3
   },
   "file_extension": ".py",
   "mimetype": "text/x-python",
   "name": "python",
   "nbconvert_exporter": "python",
   "pygments_lexer": "ipython3",
   "version": "3.8.5"
  }
 },
 "nbformat": 4,
 "nbformat_minor": 4
}
