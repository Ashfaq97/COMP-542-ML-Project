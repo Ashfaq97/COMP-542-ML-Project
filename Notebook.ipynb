{
 "cells": [
  {
   "cell_type": "markdown",
   "metadata": {},
   "source": [
    "# General Imports"
   ]
  },
  {
   "cell_type": "code",
   "execution_count": 5,
   "metadata": {},
   "outputs": [],
   "source": [
    "import sys\n",
    "import re\n",
    "import numpy as np\n",
    "import pandas as pd\n",
    "import matplotlib as plt\n",
    "import os.path\n",
    "from nltk.tokenize import RegexpTokenizer\n",
    "from nltk.tokenize import word_tokenize\n",
    "from tensorflow.keras.preprocessing.text import Tokenizer\n",
    "from tensorflow.keras.utils import to_categorical\n",
    "\n",
    "# np.set_printoptions(edgeitems=3)\n",
    "# np.core.arrayprint._line_width = 80"
   ]
  },
  {
   "cell_type": "markdown",
   "metadata": {},
   "source": [
    "# Data Manipulation"
   ]
  },
  {
   "cell_type": "markdown",
   "metadata": {},
   "source": [
    "## Load and Tokenize Data"
   ]
  },
  {
   "cell_type": "code",
   "execution_count": 6,
   "metadata": {},
   "outputs": [
    {
     "name": "stdout",
     "output_type": "stream",
     "text": [
      "length of the corpus is:  581888\n"
     ]
    }
   ],
   "source": [
    "path = 'data.txt'\n",
    "data = open(path, 'r', encoding='utf-8').read().lower()\n",
    "print('length of the corpus is: ', len(data))"
   ]
  },
  {
   "cell_type": "code",
   "execution_count": 8,
   "metadata": {},
   "outputs": [
    {
     "name": "stdout",
     "output_type": "stream",
     "text": [
      "Length of tokens: 109281\n"
     ]
    }
   ],
   "source": [
    "# splitting the corpus into words\n",
    "\n",
    "cleaned = re.sub(r'\\W+', ' ', data).lower()\n",
    "tokens = word_tokenize(cleaned)\n",
    "print('Length of tokens: ' + str(len(tokens)))\n",
    "\n",
    "# This includes all full stops and all the punctuation. We only need the words...\n",
    "# tokenizer = RegexpTokenizer(r'\\w+|\\$[\\d\\.]+|\\S+')\n",
    "# words = tokenizer.tokenize(data)\n",
    "# len(words)"
   ]
  },
  {
   "cell_type": "code",
   "execution_count": 9,
   "metadata": {},
   "outputs": [
    {
     "data": {
      "text/plain": [
       "8200"
      ]
     },
     "execution_count": 9,
     "metadata": {},
     "output_type": "execute_result"
    }
   ],
   "source": [
    "# Finding all the unique words\n",
    "\n",
    "unique_words = np.unique(tokens)\n",
    "len(unique_words)"
   ]
  },
  {
   "cell_type": "markdown",
   "metadata": {},
   "source": [
    "## Chunk Data Into Sequences"
   ]
  },
  {
   "cell_type": "code",
   "execution_count": 43,
   "metadata": {},
   "outputs": [],
   "source": [
    "# Feature Engineering - converting the text into numerical values\n",
    "\n",
    "train_len = 5\n",
    "text_sequences = []\n",
    "for i in range(train_len,len(tokens)):\n",
    "    seq = tokens[i-train_len:i]\n",
    "    text_sequences.append(seq)\n"
   ]
  },
  {
   "cell_type": "code",
   "execution_count": 44,
   "metadata": {},
   "outputs": [
    {
     "data": {
      "text/plain": [
       "[['project', 'gutenberg', 's', 'the', 'adventures'],\n",
       " ['gutenberg', 's', 'the', 'adventures', 'of'],\n",
       " ['s', 'the', 'adventures', 'of', 'sherlock'],\n",
       " ['the', 'adventures', 'of', 'sherlock', 'holmes'],\n",
       " ['adventures', 'of', 'sherlock', 'holmes', 'by'],\n",
       " ['of', 'sherlock', 'holmes', 'by', 'arthur'],\n",
       " ['sherlock', 'holmes', 'by', 'arthur', 'conan'],\n",
       " ['holmes', 'by', 'arthur', 'conan', 'doyle'],\n",
       " ['by', 'arthur', 'conan', 'doyle', 'this'],\n",
       " ['arthur', 'conan', 'doyle', 'this', 'ebook']]"
      ]
     },
     "execution_count": 44,
     "metadata": {},
     "output_type": "execute_result"
    }
   ],
   "source": [
    "text_sequences[0:10]"
   ]
  },
  {
   "cell_type": "code",
   "execution_count": 45,
   "metadata": {},
   "outputs": [
    {
     "name": "stdout",
     "output_type": "stream",
     "text": [
      "Found 8200 unique tokens.\n"
     ]
    }
   ],
   "source": [
    "# Getting unique tokens\n",
    "\n",
    "tokenizer = Tokenizer()\n",
    "tokenizer.fit_on_texts(text_sequences)\n",
    "train_sequences = tokenizer.texts_to_sequences(text_sequences)\n",
    "print('Found %s unique tokens.' % len(tokenizer.word_counts))\n",
    "vocab =  len(tokenizer.word_counts)+1"
   ]
  },
  {
   "cell_type": "code",
   "execution_count": 46,
   "metadata": {},
   "outputs": [
    {
     "name": "stdout",
     "output_type": "stream",
     "text": [
      "109276\n"
     ]
    }
   ],
   "source": [
    "print(len(train_sequences))"
   ]
  },
  {
   "cell_type": "code",
   "execution_count": 47,
   "metadata": {},
   "outputs": [],
   "source": [
    "# creating an empty array\n",
    "\n",
    "n_sequences = np.empty([len(train_sequences),train_len], dtype='int32')\n",
    "for i in range(len(train_sequences)):\n",
    "    n_sequences[i] = train_sequences[i]\n",
    "\n",
    "x = n_sequences[:,:-1]\n",
    "y = n_sequences[:,-1]"
   ]
  },
  {
   "cell_type": "code",
   "execution_count": 48,
   "metadata": {},
   "outputs": [],
   "source": [
    "# Converting the input into binary\n",
    "\n",
    "y = to_categorical(y,num_classes=vocab)"
   ]
  },
  {
   "cell_type": "markdown",
   "metadata": {},
   "source": [
    "# Model"
   ]
  },
  {
   "cell_type": "markdown",
   "metadata": {},
   "source": [
    "## Create Model"
   ]
  },
  {
   "cell_type": "code",
   "execution_count": 49,
   "metadata": {},
   "outputs": [],
   "source": [
    "# Building the Model\n",
    "\n",
    "from tensorflow.keras.models import Sequential, load_model\n",
    "from tensorflow.keras.layers import LSTM, Dense, Embedding\n",
    "from tensorflow.keras.preprocessing.sequence import pad_sequences"
   ]
  },
  {
   "cell_type": "code",
   "execution_count": 50,
   "metadata": {},
   "outputs": [],
   "source": [
    "modelPath = \"c542Model\"\n",
    "loadSavedModel = os.path.exists(modelPath)\n",
    "model = None\n",
    "if loadSavedModel:\n",
    "    print(\"Loading saved model.\")\n",
    "    load_model(modelPath)\n",
    "else:\n",
    "    model = Sequential()\n",
    "    model.add(Embedding(vocab,10, input_length=train_len-1))\n",
    "    model.add(LSTM(50,return_sequences=True))\n",
    "    model.add(LSTM(50))\n",
    "    model.add(Dense(50,activation='relu'))\n",
    "    model.add(Dense(vocab, activation='relu'))"
   ]
  },
  {
   "cell_type": "code",
   "execution_count": 51,
   "metadata": {},
   "outputs": [
    {
     "name": "stdout",
     "output_type": "stream",
     "text": [
      "Model: \"sequential_5\"\n",
      "_________________________________________________________________\n",
      " Layer (type)                Output Shape              Param #   \n",
      "=================================================================\n",
      " embedding_5 (Embedding)     (None, 4, 10)             82010     \n",
      "                                                                 \n",
      " lstm_10 (LSTM)              (None, 4, 50)             12200     \n",
      "                                                                 \n",
      " lstm_11 (LSTM)              (None, 50)                20200     \n",
      "                                                                 \n",
      " dense_10 (Dense)            (None, 50)                2550      \n",
      "                                                                 \n",
      " dense_11 (Dense)            (None, 8201)              418251    \n",
      "                                                                 \n",
      "=================================================================\n",
      "Total params: 535,211\n",
      "Trainable params: 535,211\n",
      "Non-trainable params: 0\n",
      "_________________________________________________________________\n"
     ]
    }
   ],
   "source": [
    "model.summary()"
   ]
  },
  {
   "cell_type": "code",
   "execution_count": 52,
   "metadata": {},
   "outputs": [
    {
     "name": "stdout",
     "output_type": "stream",
     "text": [
      "Model: \"sequential_5\"\n",
      "_________________________________________________________________\n",
      " Layer (type)                Output Shape              Param #   \n",
      "=================================================================\n",
      " embedding_5 (Embedding)     (None, 4, 10)             82010     \n",
      "                                                                 \n",
      " lstm_10 (LSTM)              (None, 4, 50)             12200     \n",
      "                                                                 \n",
      " lstm_11 (LSTM)              (None, 50)                20200     \n",
      "                                                                 \n",
      " dense_10 (Dense)            (None, 50)                2550      \n",
      "                                                                 \n",
      " dense_11 (Dense)            (None, 8201)              418251    \n",
      "                                                                 \n",
      "=================================================================\n",
      "Total params: 535,211\n",
      "Trainable params: 535,211\n",
      "Non-trainable params: 0\n",
      "_________________________________________________________________\n"
     ]
    }
   ],
   "source": [
    "if not loadSavedModel:\n",
    "    model.compile(loss='categorical_crossentropy', optimizer='adam', metrics=['accuracy'])\n",
    "    model.summary()"
   ]
  },
  {
   "cell_type": "markdown",
   "metadata": {},
   "source": [
    "## Train Model"
   ]
  },
  {
   "cell_type": "code",
   "execution_count": 53,
   "metadata": {
    "scrolled": false
   },
   "outputs": [
    {
     "name": "stdout",
     "output_type": "stream",
     "text": [
      "Epoch 1/50\n",
      "812/812 [==============================] - 42s 48ms/step - loss: 12.4513 - accuracy: 0.0513 - val_loss: 13.0347 - val_accuracy: 0.0538\n",
      "Epoch 2/50\n",
      "812/812 [==============================] - 35s 43ms/step - loss: 12.4508 - accuracy: 0.0554 - val_loss: 13.0140 - val_accuracy: 0.0534\n",
      "Epoch 3/50\n",
      "812/812 [==============================] - 34s 42ms/step - loss: 12.4289 - accuracy: 0.0624 - val_loss: 13.0020 - val_accuracy: 0.0547\n",
      "Epoch 4/50\n",
      "812/812 [==============================] - 41s 51ms/step - loss: 12.3986 - accuracy: 0.0696 - val_loss: 13.0018 - val_accuracy: 0.0556\n",
      "Epoch 5/50\n",
      "812/812 [==============================] - 34s 42ms/step - loss: 12.4119 - accuracy: 0.0692 - val_loss: 12.9993 - val_accuracy: 0.0562\n",
      "Epoch 6/50\n",
      "812/812 [==============================] - 33s 41ms/step - loss: 12.3815 - accuracy: 0.0755 - val_loss: 13.0277 - val_accuracy: 0.0534\n",
      "Epoch 7/50\n",
      "812/812 [==============================] - 32s 39ms/step - loss: 12.3715 - accuracy: 0.0810 - val_loss: 13.0418 - val_accuracy: 0.0558\n",
      "Epoch 8/50\n",
      "812/812 [==============================] - 36s 44ms/step - loss: 12.3878 - accuracy: 0.0741 - val_loss: 13.0185 - val_accuracy: 0.0600\n",
      "Epoch 9/50\n",
      "812/812 [==============================] - 34s 42ms/step - loss: 12.3566 - accuracy: 0.0841 - val_loss: 13.0561 - val_accuracy: 0.0571\n",
      "Epoch 10/50\n",
      "812/812 [==============================] - 31s 38ms/step - loss: 12.3374 - accuracy: 0.0917 - val_loss: 13.1151 - val_accuracy: 0.0641\n",
      "Epoch 11/50\n",
      "812/812 [==============================] - 32s 39ms/step - loss: 12.3153 - accuracy: 0.0968 - val_loss: 13.1476 - val_accuracy: 0.0652\n",
      "Epoch 12/50\n",
      "812/812 [==============================] - 32s 40ms/step - loss: 12.3138 - accuracy: 0.1015 - val_loss: 13.0679 - val_accuracy: 0.0684\n",
      "Epoch 13/50\n",
      "812/812 [==============================] - 31s 38ms/step - loss: 12.2988 - accuracy: 0.1078 - val_loss: 13.2380 - val_accuracy: 0.0732\n",
      "Epoch 14/50\n",
      "812/812 [==============================] - 30s 37ms/step - loss: 12.3161 - accuracy: 0.1032 - val_loss: 13.0422 - val_accuracy: 0.0668\n",
      "Epoch 15/50\n",
      "812/812 [==============================] - 30s 37ms/step - loss: 12.2974 - accuracy: 0.1063 - val_loss: 13.0985 - val_accuracy: 0.0703\n",
      "Epoch 16/50\n",
      "812/812 [==============================] - 31s 38ms/step - loss: nan - accuracy: 0.0715 - val_loss: nan - val_accuracy: 0.0000e+00\n",
      "Epoch 17/50\n",
      "812/812 [==============================] - 31s 38ms/step - loss: nan - accuracy: 0.0000e+00 - val_loss: nan - val_accuracy: 0.0000e+00\n",
      "Epoch 18/50\n",
      "812/812 [==============================] - 31s 38ms/step - loss: nan - accuracy: 0.0000e+00 - val_loss: nan - val_accuracy: 0.0000e+00\n",
      "Epoch 19/50\n",
      "812/812 [==============================] - 30s 37ms/step - loss: nan - accuracy: 0.0000e+00 - val_loss: nan - val_accuracy: 0.0000e+00\n",
      "Epoch 20/50\n",
      "812/812 [==============================] - 31s 38ms/step - loss: nan - accuracy: 0.0000e+00 - val_loss: nan - val_accuracy: 0.0000e+00\n",
      "Epoch 21/50\n",
      "812/812 [==============================] - 31s 38ms/step - loss: nan - accuracy: 0.0000e+00 - val_loss: nan - val_accuracy: 0.0000e+00\n",
      "Epoch 22/50\n",
      "812/812 [==============================] - 30s 37ms/step - loss: nan - accuracy: 0.0000e+00 - val_loss: nan - val_accuracy: 0.0000e+00\n",
      "Epoch 23/50\n",
      "812/812 [==============================] - 35s 44ms/step - loss: nan - accuracy: 0.0000e+00 - val_loss: nan - val_accuracy: 0.0000e+00\n",
      "Epoch 24/50\n",
      "812/812 [==============================] - 32s 40ms/step - loss: nan - accuracy: 0.0000e+00 - val_loss: nan - val_accuracy: 0.0000e+00\n",
      "Epoch 25/50\n",
      "812/812 [==============================] - 30s 37ms/step - loss: nan - accuracy: 0.0000e+00 - val_loss: nan - val_accuracy: 0.0000e+00\n",
      "Epoch 26/50\n",
      "812/812 [==============================] - 29s 36ms/step - loss: nan - accuracy: 0.0000e+00 - val_loss: nan - val_accuracy: 0.0000e+00\n",
      "Epoch 27/50\n",
      "812/812 [==============================] - 30s 37ms/step - loss: nan - accuracy: 0.0000e+00 - val_loss: nan - val_accuracy: 0.0000e+00\n",
      "Epoch 28/50\n",
      "812/812 [==============================] - 30s 37ms/step - loss: nan - accuracy: 0.0000e+00 - val_loss: nan - val_accuracy: 0.0000e+00\n",
      "Epoch 29/50\n",
      "812/812 [==============================] - 29s 36ms/step - loss: nan - accuracy: 0.0000e+00 - val_loss: nan - val_accuracy: 0.0000e+00\n",
      "Epoch 30/50\n",
      "812/812 [==============================] - 34s 42ms/step - loss: nan - accuracy: 0.0000e+00 - val_loss: nan - val_accuracy: 0.0000e+00\n",
      "Epoch 31/50\n",
      "812/812 [==============================] - 34s 42ms/step - loss: nan - accuracy: 0.0000e+00 - val_loss: nan - val_accuracy: 0.0000e+00\n",
      "Epoch 32/50\n",
      "812/812 [==============================] - 37s 45ms/step - loss: nan - accuracy: 0.0000e+00 - val_loss: nan - val_accuracy: 0.0000e+00\n",
      "Epoch 33/50\n",
      "812/812 [==============================] - 32s 39ms/step - loss: nan - accuracy: 0.0000e+00 - val_loss: nan - val_accuracy: 0.0000e+00\n",
      "Epoch 34/50\n",
      "812/812 [==============================] - 31s 38ms/step - loss: nan - accuracy: 0.0000e+00 - val_loss: nan - val_accuracy: 0.0000e+00\n",
      "Epoch 35/50\n",
      "812/812 [==============================] - 33s 41ms/step - loss: nan - accuracy: 0.0000e+00 - val_loss: nan - val_accuracy: 0.0000e+00\n",
      "Epoch 36/50\n",
      "812/812 [==============================] - 37s 46ms/step - loss: nan - accuracy: 0.0000e+00 - val_loss: nan - val_accuracy: 0.0000e+00\n",
      "Epoch 37/50\n",
      "812/812 [==============================] - 31s 38ms/step - loss: nan - accuracy: 0.0000e+00 - val_loss: nan - val_accuracy: 0.0000e+00\n",
      "Epoch 38/50\n",
      "812/812 [==============================] - 30s 38ms/step - loss: nan - accuracy: 0.0000e+00 - val_loss: nan - val_accuracy: 0.0000e+00\n",
      "Epoch 39/50\n",
      "812/812 [==============================] - 30s 37ms/step - loss: nan - accuracy: 0.0000e+00 - val_loss: nan - val_accuracy: 0.0000e+00\n",
      "Epoch 40/50\n",
      "812/812 [==============================] - 31s 38ms/step - loss: nan - accuracy: 0.0000e+00 - val_loss: nan - val_accuracy: 0.0000e+00\n",
      "Epoch 41/50\n",
      "812/812 [==============================] - 30s 37ms/step - loss: nan - accuracy: 0.0000e+00 - val_loss: nan - val_accuracy: 0.0000e+00\n",
      "Epoch 42/50\n",
      "812/812 [==============================] - 30s 36ms/step - loss: nan - accuracy: 0.0000e+00 - val_loss: nan - val_accuracy: 0.0000e+00\n",
      "Epoch 43/50\n",
      "812/812 [==============================] - 30s 37ms/step - loss: nan - accuracy: 0.0000e+00 - val_loss: nan - val_accuracy: 0.0000e+00\n",
      "Epoch 44/50\n",
      "812/812 [==============================] - 31s 38ms/step - loss: nan - accuracy: 0.0000e+00 - val_loss: nan - val_accuracy: 0.0000e+00\n",
      "Epoch 45/50\n",
      "812/812 [==============================] - 30s 38ms/step - loss: nan - accuracy: 0.0000e+00 - val_loss: nan - val_accuracy: 0.0000e+00\n",
      "Epoch 46/50\n",
      "812/812 [==============================] - 30s 37ms/step - loss: nan - accuracy: 0.0000e+00 - val_loss: nan - val_accuracy: 0.0000e+00\n",
      "Epoch 47/50\n",
      "812/812 [==============================] - 30s 37ms/step - loss: nan - accuracy: 0.0000e+00 - val_loss: nan - val_accuracy: 0.0000e+00\n",
      "Epoch 48/50\n",
      "812/812 [==============================] - 31s 38ms/step - loss: nan - accuracy: 0.0000e+00 - val_loss: nan - val_accuracy: 0.0000e+00\n",
      "Epoch 49/50\n",
      "812/812 [==============================] - 30s 38ms/step - loss: nan - accuracy: 0.0000e+00 - val_loss: nan - val_accuracy: 0.0000e+00\n",
      "Epoch 50/50\n",
      "812/812 [==============================] - 31s 38ms/step - loss: nan - accuracy: 0.0000e+00 - val_loss: nan - val_accuracy: 0.0000e+00\n"
     ]
    }
   ],
   "source": [
    "if not loadSavedModel:\n",
    "    history = model.fit(x, y,validation_split=0.05,batch_size=128, epochs=50)"
   ]
  },
  {
   "cell_type": "code",
   "execution_count": 54,
   "metadata": {},
   "outputs": [
    {
     "name": "stdout",
     "output_type": "stream",
     "text": [
      "Saving Model\n"
     ]
    },
    {
     "name": "stderr",
     "output_type": "stream",
     "text": [
      "WARNING:absl:Found untraced functions such as lstm_cell_12_layer_call_fn, lstm_cell_12_layer_call_and_return_conditional_losses, lstm_cell_13_layer_call_fn, lstm_cell_13_layer_call_and_return_conditional_losses, lstm_cell_12_layer_call_fn while saving (showing 5 of 10). These functions will not be directly callable after loading.\n"
     ]
    },
    {
     "name": "stdout",
     "output_type": "stream",
     "text": [
      "INFO:tensorflow:Assets written to: c542Model\\assets\n"
     ]
    },
    {
     "name": "stderr",
     "output_type": "stream",
     "text": [
      "INFO:tensorflow:Assets written to: c542Model\\assets\n",
      "WARNING:absl:<keras.layers.recurrent.LSTMCell object at 0x000001D37BBBB908> has the same name 'LSTMCell' as a built-in Keras object. Consider renaming <class 'keras.layers.recurrent.LSTMCell'> to avoid naming conflicts when loading with `tf.keras.models.load_model`. If renaming is not possible, pass the object in the `custom_objects` parameter of the load function.\n",
      "WARNING:absl:<keras.layers.recurrent.LSTMCell object at 0x000001D46B2048C8> has the same name 'LSTMCell' as a built-in Keras object. Consider renaming <class 'keras.layers.recurrent.LSTMCell'> to avoid naming conflicts when loading with `tf.keras.models.load_model`. If renaming is not possible, pass the object in the `custom_objects` parameter of the load function.\n"
     ]
    }
   ],
   "source": [
    "if not loadSavedModel:\n",
    "    print(\"Saving Model\")\n",
    "    model.save(modelPath)"
   ]
  },
  {
   "cell_type": "markdown",
   "metadata": {},
   "source": [
    "# Testing The Model"
   ]
  },
  {
   "cell_type": "markdown",
   "metadata": {},
   "source": [
    "## Interactive Testing"
   ]
  },
  {
   "cell_type": "code",
   "execution_count": 55,
   "metadata": {},
   "outputs": [
    {
     "name": "stdout",
     "output_type": "stream",
     "text": [
      "Enter the phrase: HOw are you doing\n"
     ]
    }
   ],
   "source": [
    "text = str(input(\"Enter the phrase: \")).strip().lower()"
   ]
  },
  {
   "cell_type": "code",
   "execution_count": 90,
   "metadata": {},
   "outputs": [],
   "source": [
    "# Frunctions to predict the next word(s)\n",
    "\n",
    "def predict(model,text):\n",
    "    text = text.lower()\n",
    "    encoded_text = tokenizer.texts_to_sequences([text])[0]\n",
    "    test_sequences = tokenizer.texts_to_sequences([text])\n",
    "    pad_encoded = pad_sequences([encoded_text], maxlen=train_len-1, truncating='pre')\n",
    "    for i in (model.predict(pad_encoded)[0]).argsort()[-(train_len-1):][::-1]:\n",
    "        print(i)\n",
    "        pred_word = tokenizer.index_word[i]\n",
    "        print(\"Next word suggestion:\",pred_word)\n",
    "\n",
    "    predicted_word = model.predict(pad_encoded).argsort()\n",
    "    label = predicted_word.argmax(axis=1)\n",
    "    #tokenizer.index_word[label[0]]"
   ]
  },
  {
   "cell_type": "code",
   "execution_count": 91,
   "metadata": {},
   "outputs": [
    {
     "name": "stdout",
     "output_type": "stream",
     "text": [
      "8200\n",
      "Next word suggestion: newsletter\n",
      "2562\n",
      "Next word suggestion: factor\n",
      "2724\n",
      "Next word suggestion: handy\n",
      "2725\n",
      "Next word suggestion: grown\n",
      "[[   0 5474 5473 ... 2724 2562 8200]]\n",
      "newsletter\n"
     ]
    }
   ],
   "source": [
    "predict(model, \"adventures of sherlock holmes by\")"
   ]
  },
  {
   "cell_type": "code",
   "execution_count": 109,
   "metadata": {},
   "outputs": [],
   "source": [
    "def generate_text(model, text, max_words=5):\n",
    "    text = text.lower()\n",
    "    encoded_text = tokenizer.texts_to_sequences([text])[0]\n",
    "    test_sequences = tokenizer.texts_to_sequences([text])\n",
    "    base = pad_sequences([encoded_text], maxlen=train_len-1, truncating='pre')\n",
    "    print(base)\n",
    "    results = []\n",
    "    for i in range(max_words):\n",
    "        nextToken = model.predict(base)[0].argsort()[-1]\n",
    "        nextWord = tokenizer.index_word[nextToken]\n",
    "        results.append(nextWord)\n",
    "        base = pad_sequences([np.append(base[0],[nextToken])], maxlen=train_len-1, truncating='pre')\n",
    "        print(base)\n",
    "    prediction = \" \".join(results)\n",
    "    print(f\"Prediction: {prediction}\")\n",
    "    tokenizer.index_word[label[0]]"
   ]
  },
  {
   "cell_type": "code",
   "execution_count": 110,
   "metadata": {
    "scrolled": false
   },
   "outputs": [
    {
     "name": "stdout",
     "output_type": "stream",
     "text": [
      "[[  0   0 152   1]]\n",
      "[[   0  152    1 8200]]\n",
      "[[ 152    1 8200 8200]]\n",
      "[[   1 8200 8200 8200]]\n",
      "[[8200 8200 8200 8200]]\n",
      "[[8200 8200 8200 8200]]\n",
      "[[8200 8200 8200 8200]]\n",
      "[[8200 8200 8200 8200]]\n",
      "[[8200 8200 8200 8200]]\n",
      "[[8200 8200 8200 8200]]\n",
      "[[8200 8200 8200 8200]]\n",
      "Prediction: newsletter newsletter newsletter newsletter newsletter newsletter newsletter newsletter newsletter newsletter\n"
     ]
    },
    {
     "ename": "NameError",
     "evalue": "name 'label' is not defined",
     "output_type": "error",
     "traceback": [
      "\u001b[1;31m---------------------------------------------------------------------------\u001b[0m",
      "\u001b[1;31mNameError\u001b[0m                                 Traceback (most recent call last)",
      "\u001b[1;32m~\\AppData\\Local\\Temp/ipykernel_13124/1158112131.py\u001b[0m in \u001b[0;36m<module>\u001b[1;34m\u001b[0m\n\u001b[1;32m----> 1\u001b[1;33m \u001b[0mgenerate_text\u001b[0m\u001b[1;33m(\u001b[0m\u001b[0mmodel\u001b[0m\u001b[1;33m,\u001b[0m \u001b[1;34m\"Harry took the invisibility\"\u001b[0m\u001b[1;33m,\u001b[0m \u001b[0mmax_words\u001b[0m\u001b[1;33m=\u001b[0m\u001b[1;36m10\u001b[0m\u001b[1;33m)\u001b[0m\u001b[1;33m\u001b[0m\u001b[1;33m\u001b[0m\u001b[0m\n\u001b[0m",
      "\u001b[1;32m~\\AppData\\Local\\Temp/ipykernel_13124/3144624315.py\u001b[0m in \u001b[0;36mgenerate_text\u001b[1;34m(model, text, max_words)\u001b[0m\n\u001b[0;32m     14\u001b[0m     \u001b[0mprediction\u001b[0m \u001b[1;33m=\u001b[0m \u001b[1;34m\" \"\u001b[0m\u001b[1;33m.\u001b[0m\u001b[0mjoin\u001b[0m\u001b[1;33m(\u001b[0m\u001b[0mresults\u001b[0m\u001b[1;33m)\u001b[0m\u001b[1;33m\u001b[0m\u001b[1;33m\u001b[0m\u001b[0m\n\u001b[0;32m     15\u001b[0m     \u001b[0mprint\u001b[0m\u001b[1;33m(\u001b[0m\u001b[1;34mf\"Prediction: {prediction}\"\u001b[0m\u001b[1;33m)\u001b[0m\u001b[1;33m\u001b[0m\u001b[1;33m\u001b[0m\u001b[0m\n\u001b[1;32m---> 16\u001b[1;33m     \u001b[0mtokenizer\u001b[0m\u001b[1;33m.\u001b[0m\u001b[0mindex_word\u001b[0m\u001b[1;33m[\u001b[0m\u001b[0mlabel\u001b[0m\u001b[1;33m[\u001b[0m\u001b[1;36m0\u001b[0m\u001b[1;33m]\u001b[0m\u001b[1;33m]\u001b[0m\u001b[1;33m\u001b[0m\u001b[1;33m\u001b[0m\u001b[0m\n\u001b[0m",
      "\u001b[1;31mNameError\u001b[0m: name 'label' is not defined"
     ]
    }
   ],
   "source": [
    "generate_text(model, \"Harry took the invisibility\", max_words=10)"
   ]
  },
  {
   "cell_type": "code",
   "execution_count": 59,
   "metadata": {},
   "outputs": [
    {
     "name": "stdout",
     "output_type": "stream",
     "text": [
      "adventures of sherlock\n",
      "[983, 5, 125] [[983   5 125]]\n",
      "8200\n",
      "Next word suggestion: newsletter\n",
      "2562\n",
      "Next word suggestion: factor\n",
      "2724\n",
      "Next word suggestion: handy\n"
     ]
    }
   ],
   "source": [
    "input_text = input().strip().lower()\n",
    "encoded_text = tokenizer.texts_to_sequences([input_text])[0]\n",
    "pad_encoded = pad_sequences([encoded_text], maxlen=3, truncating='pre')\n",
    "# print(encoded_text, pad_encoded)\n",
    "for i in (model.predict(pad_encoded)[0]).argsort()[-3:][::-1]:\n",
    "    pred_word = tokenizer.index_word[i]\n",
    "    print(\"Next word suggestion:\",pred_word)"
   ]
  }
 ],
 "metadata": {
  "kernelspec": {
   "display_name": "Python 3 (ipykernel)",
   "language": "python",
   "name": "python3"
  },
  "language_info": {
   "codemirror_mode": {
    "name": "ipython",
    "version": 3
   },
   "file_extension": ".py",
   "mimetype": "text/x-python",
   "name": "python",
   "nbconvert_exporter": "python",
   "pygments_lexer": "ipython3",
   "version": "3.7.5"
  }
 },
 "nbformat": 4,
 "nbformat_minor": 4
}
